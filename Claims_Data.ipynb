{
 "cells": [
  {
   "cell_type": "code",
   "execution_count": 0,
   "metadata": {
    "application/vnd.databricks.v1+cell": {
     "cellMetadata": {
      "byteLimit": 2048000,
      "implicitDf": true,
      "rowLimit": 10000
     },
     "inputWidgets": {},
     "nuid": "6c25d40f-aea5-4722-8daa-34194dbe9b5c",
     "showTitle": false,
     "tableResultSettingsMap": {},
     "title": ""
    }
   },
   "outputs": [],
   "source": [
    "%python\n",
    "%run \"/Workspace/Users/ravipalepu33@gmail.com/Vehicle-Insurance/Branch_data\""
   ]
  },
  {
   "cell_type": "code",
   "execution_count": 0,
   "metadata": {
    "application/vnd.databricks.v1+cell": {
     "cellMetadata": {
      "byteLimit": 2048000,
      "rowLimit": 10000
     },
     "inputWidgets": {},
     "nuid": "b058ea08-e8f7-497c-ae3c-cbf7065ed6b6",
     "showTitle": true,
     "tableResultSettingsMap": {},
     "title": "a"
    }
   },
   "outputs": [],
   "source": [
    "claims_data_df = spark.read.option(\"header\", \"true\").format(\"csv\").load(\"/FileStore/tables/claims_data.csv\")"
   ]
  },
  {
   "cell_type": "code",
   "execution_count": 0,
   "metadata": {
    "application/vnd.databricks.v1+cell": {
     "cellMetadata": {
      "byteLimit": 2048000,
      "rowLimit": 10000
     },
     "inputWidgets": {},
     "nuid": "19cf3563-0838-4878-87e4-7bebf5893ae6",
     "showTitle": false,
     "tableResultSettingsMap": {},
     "title": ""
    }
   },
   "outputs": [],
   "source": [
    "display(claims_data_df.limit(10))"
   ]
  },
  {
   "cell_type": "code",
   "execution_count": 0,
   "metadata": {
    "application/vnd.databricks.v1+cell": {
     "cellMetadata": {
      "byteLimit": 2048000,
      "rowLimit": 10000
     },
     "inputWidgets": {},
     "nuid": "b4951cd6-b2dd-40bb-a875-3faa6addf3e1",
     "showTitle": false,
     "tableResultSettingsMap": {},
     "title": ""
    }
   },
   "outputs": [],
   "source": [
    "from pyspark.sql.functions import rand\n",
    "\n",
    "# Get unique branch IDs from branch data\n",
    "branch_ids = branch_data_df.select(\"Branch_ID\").distinct().rdd.flatMap(lambda x: x).collect()\n",
    "\n",
    "# Define a UDF to randomly assign a Branch_ID\n",
    "import random\n",
    "from pyspark.sql.functions import udf\n",
    "from pyspark.sql.types import StringType\n",
    "\n",
    "random_branch_udf = udf(lambda: random.choice(branch_ids), StringType())\n",
    "\n",
    "# Add the Branch_ID column to claims data\n",
    "claims_data_df = claims_data_df.withColumn(\"Branch_ID\", random_branch_udf())\n",
    "\n",
    "# Show results\n",
    "claims_data_df.show()\n"
   ]
  },
  {
   "cell_type": "code",
   "execution_count": 0,
   "metadata": {
    "application/vnd.databricks.v1+cell": {
     "cellMetadata": {
      "byteLimit": 2048000,
      "rowLimit": 10000
     },
     "inputWidgets": {},
     "nuid": "480655b5-3705-4d72-8c0f-687e0506e167",
     "showTitle": false,
     "tableResultSettingsMap": {},
     "title": ""
    }
   },
   "outputs": [],
   "source": [
    "claims_data_df.write.mode(\"overwrite\").saveAsTable(\"claims_data\")"
   ]
  },
  {
   "cell_type": "code",
   "execution_count": 0,
   "metadata": {
    "application/vnd.databricks.v1+cell": {
     "cellMetadata": {
      "byteLimit": 2048000,
      "implicitDf": true,
      "rowLimit": 10000
     },
     "inputWidgets": {},
     "nuid": "73b00465-056f-4a4d-b036-08e86b3f20df",
     "showTitle": false,
     "tableResultSettingsMap": {},
     "title": ""
    }
   },
   "outputs": [],
   "source": [
    "%sql\n",
    "SELECT * FROM claims_data LIMIT 10"
   ]
  },
  {
   "cell_type": "code",
   "execution_count": 0,
   "metadata": {
    "application/vnd.databricks.v1+cell": {
     "cellMetadata": {
      "byteLimit": 2048000,
      "rowLimit": 10000
     },
     "collapsed": true,
     "inputWidgets": {},
     "nuid": "916b7888-348a-45be-8409-492cb632105a",
     "showTitle": true,
     "tableResultSettingsMap": {},
     "title": "Null Count"
    }
   },
   "outputs": [],
   "source": [
    "%python\n",
    "from pyspark.sql.functions import col, sum, when\n",
    "\n",
    "null_cnt = claims_data_df.select([sum(when(col(c).isNull(), 1).otherwise(0)).alias(c) for c in claims_data_df.columns])\n",
    "display(null_cnt.limit(10))"
   ]
  },
  {
   "cell_type": "code",
   "execution_count": 0,
   "metadata": {
    "application/vnd.databricks.v1+cell": {
     "cellMetadata": {
      "byteLimit": 2048000,
      "rowLimit": 10000
     },
     "collapsed": true,
     "inputWidgets": {},
     "nuid": "567f7305-97e5-4500-9fd4-5b0eba60c2cb",
     "showTitle": true,
     "tableResultSettingsMap": {},
     "title": "Duplicate Count"
    }
   },
   "outputs": [],
   "source": [
    "%python\n",
    "claims_data_df.filter(\n",
    "    (claims_data_df.Branch_ID.isNotNull()) & \n",
    "    (claims_data_df.Policy_ID.isNotNull())\n",
    ").groupBy(\n",
    "    \"Branch_ID\", \"Status\", \"Vehicle_ID\", \"Claim_Amount\", \"Policy_ID\"\n",
    ").count().filter(\n",
    "    \"count > 1\"\n",
    ").show()"
   ]
  },
  {
   "cell_type": "code",
   "execution_count": 0,
   "metadata": {
    "application/vnd.databricks.v1+cell": {
     "cellMetadata": {
      "byteLimit": 2048000,
      "rowLimit": 10000
     },
     "inputWidgets": {},
     "nuid": "7141352e-d931-43c3-8b0f-7fd59d4e3f97",
     "showTitle": true,
     "tableResultSettingsMap": {},
     "title": "Preview First 10 Rows of Claims Data"
    }
   },
   "outputs": [],
   "source": [
    "display(claims_data_df.limit(10))"
   ]
  },
  {
   "cell_type": "code",
   "execution_count": 0,
   "metadata": {
    "application/vnd.databricks.v1+cell": {
     "cellMetadata": {
      "byteLimit": 2048000,
      "implicitDf": true,
      "rowLimit": 10000
     },
     "collapsed": true,
     "inputWidgets": {},
     "nuid": "4b4c297f-6dd8-4168-89fe-f2551b547977",
     "showTitle": false,
     "tableResultSettingsMap": {},
     "title": ""
    }
   },
   "outputs": [],
   "source": [
    "%sql\n",
    "SELECT Branch_ID,COUNT(Policy_ID) AS cnt FROM claims_data GROUP BY Branch_ID ORDER BY cnt DESC LIMIT 10 "
   ]
  },
  {
   "cell_type": "code",
   "execution_count": 0,
   "metadata": {
    "application/vnd.databricks.v1+cell": {
     "cellMetadata": {
      "byteLimit": 2048000,
      "implicitDf": true,
      "rowLimit": 10000
     },
     "collapsed": true,
     "inputWidgets": {},
     "nuid": "f4398069-c6ec-410b-abed-0a5705767e0b",
     "showTitle": true,
     "tableResultSettingsMap": {},
     "title": "Top 10 Branches by Average Claim Amount"
    }
   },
   "outputs": [],
   "source": [
    "%sql\n",
    "SELECT \n",
    "Branch_ID,AVG(Claim_Amount) AS avg_claim_amount \n",
    "FROM claims_data \n",
    "GROUP BY Branch_ID \n",
    "ORDER BY avg_claim_amount \n",
    "DESC LIMIT (10)"
   ]
  },
  {
   "cell_type": "code",
   "execution_count": 0,
   "metadata": {
    "application/vnd.databricks.v1+cell": {
     "cellMetadata": {
      "byteLimit": 2048000,
      "implicitDf": true,
      "rowLimit": 10000
     },
     "inputWidgets": {},
     "nuid": "604b2b36-65e3-4820-b119-a73351aabd67",
     "showTitle": false,
     "tableResultSettingsMap": {},
     "title": ""
    }
   },
   "outputs": [],
   "source": [
    "%sql\n",
    "SELECT Branch_ID,COUNT(Status) AS cnt FROM claims_data WHERE Status = 'Approved' GROUP BY Branch_ID ORDER BY cnt DESC LIMIT 10"
   ]
  },
  {
   "cell_type": "code",
   "execution_count": 0,
   "metadata": {
    "application/vnd.databricks.v1+cell": {
     "cellMetadata": {
      "byteLimit": 2048000,
      "implicitDf": true,
      "rowLimit": 10000
     },
     "collapsed": true,
     "inputWidgets": {},
     "nuid": "952eb334-c996-4554-9bb3-e4f0493474ff",
     "showTitle": false,
     "tableResultSettingsMap": {},
     "title": ""
    }
   },
   "outputs": [],
   "source": [
    "%sql\n",
    "SELECT Policy_ID,COUNT(Claim_ID) AS cnt FROM claims_data GROUP BY Policy_ID ORDER BY cnt DESC LIMIT 10"
   ]
  },
  {
   "cell_type": "code",
   "execution_count": 0,
   "metadata": {
    "application/vnd.databricks.v1+cell": {
     "cellMetadata": {
      "byteLimit": 2048000,
      "implicitDf": true,
      "rowLimit": 10000
     },
     "inputWidgets": {},
     "nuid": "ec25c189-f63a-47dd-b504-d7fb99989f75",
     "showTitle": true,
     "tableResultSettingsMap": {},
     "title": "Claims Count  Per Branch"
    }
   },
   "outputs": [],
   "source": [
    "%sql\n",
    "SELECT Branch_ID,COUNT(Claim_ID) AS cnt FROM claims_data GROUP BY Branch_ID ORDER BY cnt DESC LIMIT 10"
   ]
  },
  {
   "cell_type": "code",
   "execution_count": 0,
   "metadata": {
    "application/vnd.databricks.v1+cell": {
     "cellMetadata": {
      "byteLimit": 2048000,
      "implicitDf": true,
      "rowLimit": 10000
     },
     "collapsed": true,
     "inputWidgets": {},
     "nuid": "d40a7b31-0a6a-44ef-859a-49f3afc69227",
     "showTitle": false,
     "tableResultSettingsMap": {},
     "title": ""
    }
   },
   "outputs": [],
   "source": [
    "%sql\n",
    "SELECT * FROM branch_data LIMIT 10"
   ]
  },
  {
   "cell_type": "code",
   "execution_count": 0,
   "metadata": {
    "application/vnd.databricks.v1+cell": {
     "cellMetadata": {
      "byteLimit": 2048000,
      "implicitDf": true,
      "rowLimit": 10000
     },
     "inputWidgets": {},
     "nuid": "24ec6406-3843-4fbb-96a5-f448d3c26c88",
     "showTitle": true,
     "tableResultSettingsMap": {},
     "title": "Top 10 Branches by Policy Count"
    }
   },
   "outputs": [],
   "source": [
    "%sql\n",
    "SELECT b.Location,COUNT(c.Policy_ID) AS policy_count_per_location \n",
    "FROM Branch_data b \n",
    "INNER JOIN Claims_data  c on b.Branch_ID = c.Branch_ID \n",
    "WHERE Location IS NOT NULL \n",
    "GROUP BY b.Location\n",
    "ORDER BY policy_count_per_location \n",
    "DESC LIMIT 10"
   ]
  }
 ],
 "metadata": {
  "application/vnd.databricks.v1+notebook": {
   "computePreferences": null,
   "dashboards": [],
   "environmentMetadata": {
    "base_environment": "",
    "environment_version": "2"
   },
   "inputWidgetPreferences": null,
   "language": "python",
   "notebookMetadata": {
    "mostRecentlyExecutedCommandWithImplicitDF": {
     "commandId": 5394425729681124,
     "dataframes": [
      "_sqldf"
     ]
    },
    "pythonIndentUnit": 4
   },
   "notebookName": "Claims_Data",
   "widgets": {}
  },
  "language_info": {
   "name": "python"
  }
 },
 "nbformat": 4,
 "nbformat_minor": 0
}
